{
 "cells": [
  {
   "cell_type": "code",
   "execution_count": 2,
   "id": "be3b54e2",
   "metadata": {},
   "outputs": [],
   "source": [
    "import pandas as pd\n",
    "import numpy as np\n",
    "import matplotlib.pyplot as plt\n",
    "import seaborn as sns\n",
    "from typing import Union, Tuple\n",
    "from sklearn.neighbors import KNeighborsRegressor\n",
    "from sklearn.tree import DecisionTreeRegressor\n",
    "from sklearn.preprocessing import PolynomialFeatures\n",
    "from sklearn.linear_model import LinearRegression\n",
    "from sklearn.model_selection import train_test_split\n",
    "from sklearn.metrics import accuracy_score, classification_report, confusion_matrix"
   ]
  },
  {
   "cell_type": "code",
   "execution_count": 72,
   "id": "8ea18a04",
   "metadata": {},
   "outputs": [],
   "source": [
    "df = pd.read_csv('C:\\df ml\\df1.csv')"
   ]
  },
  {
   "cell_type": "code",
   "execution_count": 73,
   "id": "3f45fa82",
   "metadata": {},
   "outputs": [],
   "source": [
    "df_backup=df"
   ]
  },
  {
   "cell_type": "code",
   "execution_count": 74,
   "id": "42d7ae11",
   "metadata": {},
   "outputs": [],
   "source": [
    "X= df[df.drop('price',axis=1).columns]\n",
    "y=df['price']\n",
    "X_train, X_test, y_train, y_test = train_test_split(X, y, test_size=0.30, random_state=42)"
   ]
  },
  {
   "cell_type": "code",
   "execution_count": null,
   "id": "ad66edc5",
   "metadata": {},
   "outputs": [],
   "source": [
    "knn = KNeighborsClassifier(n_neighbors=3)\n",
    "knn.fit(X_train,y_train)"
   ]
  },
  {
   "cell_type": "code",
   "execution_count": null,
   "id": "a0105e17",
   "metadata": {},
   "outputs": [],
   "source": [
    "def train_models(models, X_train,y_train):\n",
    "    for model_id in models:\n",
    "        degree = models[model_id].get('degree') if models[model_id].get('degree')\n",
    "        \n",
    "        polynomial_model(model=models[model_id]['model'],\n",
    "                            degree=degree,\n",
    "                            X=X_train,\n",
    "                            y=y_train) if degree else models[model_id]['model'].fit(X_train, y_train)\n",
    "\n",
    "    return models"
   ]
  },
  {
   "cell_type": "code",
   "execution_count": 3,
   "id": "2b1d1156",
   "metadata": {},
   "outputs": [],
   "source": [
    "def evaluation_models(models, X_train,y_train):\n",
    "    for model_id in models:\n",
    "        degree = models[model_id].get('degree') if models[model_id].get('degree') else None\n",
    "        \n",
    "        y_predict = polynomial_model(model = models[model_id]['model'],\n",
    "                                    X=X,\n",
    "                                    y=y,\n",
    "                                    degree=degree,\n",
    "                                    train_model=False,\n",
    "                                    predict_model=True\n",
    "                                    ) if degree else models[model_id]['model'].predict(X)\n",
    "\n",
    "        score = r2_score(y_predict, y)\n",
    "        \n",
    "        if train:\n",
    "            models[model_id][\"Train_Score\"] = score\n",
    "        else:\n",
    "            models[model_id][\"Test_Score\"] = score\n",
    "    \n",
    "    return models"
   ]
  },
  {
   "cell_type": "code",
   "execution_count": 79,
   "id": "310da353",
   "metadata": {},
   "outputs": [],
   "source": [
    "models = {\n",
    "        'ploy': {'model': LinearRegression(), 'degree' : 1},\n",
    "        'knn'   : {'model': KNeighborsRegressor(n_neighbors=3)},\n",
    "        'D_tree': {'model': DecisionTreeRegressor(random_state=0)}\n",
    "        }"
   ]
  },
  {
   "cell_type": "code",
   "execution_count": 81,
   "id": "18690b3e",
   "metadata": {},
   "outputs": [],
   "source": [
    "models = train_models(models, X_train, y_train)\n"
   ]
  },
  {
   "cell_type": "code",
   "execution_count": null,
   "id": "40515064",
   "metadata": {},
   "outputs": [],
   "source": [
    "models = evaluation_models(models, X_test, y_test)"
   ]
  },
  {
   "cell_type": "code",
   "execution_count": null,
   "id": "fb7708ae",
   "metadata": {},
   "outputs": [],
   "source": [
    "models = evaluation_models(models, X_train, y_train, train=True)"
   ]
  }
 ],
 "metadata": {
  "kernelspec": {
   "display_name": "Python 3 (ipykernel)",
   "language": "python",
   "name": "python3"
  },
  "language_info": {
   "codemirror_mode": {
    "name": "ipython",
    "version": 3
   },
   "file_extension": ".py",
   "mimetype": "text/x-python",
   "name": "python",
   "nbconvert_exporter": "python",
   "pygments_lexer": "ipython3",
   "version": "3.11.5"
  }
 },
 "nbformat": 4,
 "nbformat_minor": 5
}
